{
 "cells": [
  {
   "cell_type": "code",
   "execution_count": 46,
   "id": "806901b1-738b-474a-9c04-a364402f5b11",
   "metadata": {},
   "outputs": [],
   "source": [
    "import sys\n",
    "sys.path.append('/home/sarju/.local/lib/python3.12/site-packages')"
   ]
  },
  {
   "cell_type": "code",
   "execution_count": 61,
   "id": "288e26d7-66bf-4eaf-b2f2-93ec5eca2d0e",
   "metadata": {},
   "outputs": [],
   "source": [
    "import xgboost as xgb\n",
    "import pandas as pd\n",
    "from sklearn.model_selection import train_test_split\n",
    "from sklearn.metrics import mean_squared_error, mean_absolute_error, r2_score\n",
    "import numpy as np\n",
    "from scipy.stats import uniform, randint\n",
    "import matplotlib.pyplot as plt\n",
    "from sklearn.metrics import accuracy_score\n",
    "from sklearn.model_selection import GridSearchCV\n",
    "import time"
   ]
  },
  {
   "cell_type": "code",
   "execution_count": 97,
   "id": "9c449016-3da1-45a5-88c6-5284964285df",
   "metadata": {},
   "outputs": [],
   "source": [
    "CAFire = pd.read_csv(\"cleanedCAFire.csv\", index_col=\"_id\", low_memory=False)"
   ]
  },
  {
   "cell_type": "code",
   "execution_count": 98,
   "id": "4317fd36-d49d-4e87-a92f-6b60e103e364",
   "metadata": {},
   "outputs": [],
   "source": [
    "# Get the data and clean if removing any blank and na values\n",
    "CAFire = pd.read_csv(\"cleanedCAFire.csv\", index_col=\"_id\", low_memory=False)\n",
    "clean_CAFire = CAFire.replace([' ', 'Unknown'], np.nan)"
   ]
  },
  {
   "cell_type": "code",
   "execution_count": 50,
   "id": "9841c1e2-75cd-4561-ac2e-a92bbca8013d",
   "metadata": {},
   "outputs": [
    {
     "data": {
      "text/plain": [
       "Index(['OBJECTID', '* Damage', '* Street Number', '* Street Name',\n",
       "       '* Street Type (e.g. road, drive, lane, etc.)', '* City', 'Zip Code',\n",
       "       '* CAL FIRE Unit', 'County', '* Incident Name',\n",
       "       'Incident Number (e.g. CAAEU 123456)', 'Incident Start Date',\n",
       "       'If Affected 1-9% - Where did fire start?',\n",
       "       'If Affected 1-9% - What started fire?',\n",
       "       'Structure Defense Actions Taken', '* Structure Type',\n",
       "       'Structure Category', '# Units in Structure (if multi unit)',\n",
       "       '# of Damaged Outbuildings < 120 SQFT',\n",
       "       '# of Non Damaged Outbuildings < 120 SQFT', '* Roof Construction',\n",
       "       '* Eaves', '* Vent Screen', '* Exterior Siding', '* Window Pane',\n",
       "       '* Deck/Porch On Grade', '* Deck/Porch Elevated',\n",
       "       '* Patio Cover/Carport Attached to Structure',\n",
       "       '* Fence Attached to Structure', 'Distance - Propane Tank to Structure',\n",
       "       'Distance - Residence to Utility/Misc Structure &gt; 120 SQFT',\n",
       "       'Fire Name (Secondary)', 'GLOBALID', 'Latitude', 'Longitude', 'x', 'y'],\n",
       "      dtype='object')"
      ]
     },
     "execution_count": 50,
     "metadata": {},
     "output_type": "execute_result"
    }
   ],
   "source": [
    "CAFire.columns"
   ]
  },
  {
   "cell_type": "code",
   "execution_count": 99,
   "id": "c656efef-a61f-4336-b8f5-7b0c0c29dc4a",
   "metadata": {},
   "outputs": [],
   "source": [
    "CAFire[\"* Damage\"] = CAFire[\"* Damage\"].astype(\"category\").cat.codes\n",
    "\n",
    "#Does not create column for null values\n",
    "X = pd.get_dummies(CAFire.loc[:, slice('Structure Defense Actions Taken', 'Distance - Residence to Utility/Misc Structure &gt; 120 SQFT')])\n",
    "y = CAFire[\"* Damage\"]\n",
    "\n",
    "#Clean for proper usage of XGBoost\n",
    "X.columns = X.columns.str.replace('[', '').str.replace(']', '').str.replace('<', 'LT').str.replace('>', 'GT')\n"
   ]
  },
  {
   "cell_type": "code",
   "execution_count": 100,
   "id": "3f680c5a-55e5-4c86-962d-4840710c231c",
   "metadata": {},
   "outputs": [],
   "source": [
    "X_train, X_test, y_train, y_test = train_test_split(X, y, test_size=0.2, random_state=0)"
   ]
  },
  {
   "cell_type": "code",
   "execution_count": 82,
   "id": "bf171724-c71d-4df7-b35c-20941c4cc569",
   "metadata": {},
   "outputs": [
    {
     "name": "stdout",
     "output_type": "stream",
     "text": [
      "Best parameters: {'learning_rate': 0.1, 'max_depth': 10, 'n_estimators': 150}\n"
     ]
    }
   ],
   "source": [
    "# Computationally expensive (takes a long time)\n",
    "\n",
    "# Tested max_depth from 5-15 (Best: 10)\n",
    "# Tested learning_rate from 0.01 - 0.1 (Best: 0.05)\n",
    "# Tested n_estimators from 150 - 250 (Best: 200)\n",
    "\n",
    "param_grid = {\n",
    "    'max_depth': [5, 10, 15],\n",
    "    'learning_rate': [0.01, 0.05, 0.1],\n",
    "    'n_estimators': [100, 150, 200]\n",
    "}\n",
    "\n",
    "grid_search = GridSearchCV(estimator=xgb.XGBRegressor(), param_grid=param_grid, scoring='neg_mean_squared_error', cv=3)\n",
    "grid_search.fit(X_train, y_train)\n",
    "\n",
    "print(\"Best parameters:\", grid_search.best_params_)"
   ]
  },
  {
   "cell_type": "code",
   "execution_count": 104,
   "id": "086f3fc0-7c52-4e1c-a51a-4a7f52b2bbd2",
   "metadata": {},
   "outputs": [
    {
     "name": "stdout",
     "output_type": "stream",
     "text": [
      "Accuracy: 0.8872\n",
      "Runtime: 5.579 seconds\n"
     ]
    }
   ],
   "source": [
    "#Fit the model with the optimized parameters\n",
    "\n",
    "#Ai prompt: How to check model runtime\n",
    "start_time = time.time()\n",
    "\n",
    "model = xgb.XGBClassifier(n_estimators=150, learning_rate=0.1, max_depth=10)\n",
    "model.fit(X_train, y_train)\n",
    "y_pred = model.predict(X_test)\n",
    "\n",
    "#Test accuracy\n",
    "accuracy = accuracy_score(y_test, y_pred)\n",
    "print(f\"Accuracy: {accuracy:.4f}\")\n",
    "\n",
    "end_time = time.time()\n",
    "\n",
    "runtime = end_time - start_time\n",
    "print(f\"Runtime: {runtime:.3f} seconds\")"
   ]
  },
  {
   "cell_type": "code",
   "execution_count": 67,
   "id": "6905a44c-0c7b-4953-bdce-aca012e39b55",
   "metadata": {},
   "outputs": [
    {
     "data": {
      "text/html": [
       "<div>\n",
       "<style scoped>\n",
       "    .dataframe tbody tr th:only-of-type {\n",
       "        vertical-align: middle;\n",
       "    }\n",
       "\n",
       "    .dataframe tbody tr th {\n",
       "        vertical-align: top;\n",
       "    }\n",
       "\n",
       "    .dataframe thead th {\n",
       "        text-align: right;\n",
       "    }\n",
       "</style>\n",
       "<table border=\"1\" class=\"dataframe\">\n",
       "  <thead>\n",
       "    <tr style=\"text-align: right;\">\n",
       "      <th></th>\n",
       "      <th>Features</th>\n",
       "      <th>Importance</th>\n",
       "    </tr>\n",
       "  </thead>\n",
       "  <tbody>\n",
       "    <tr>\n",
       "      <th>104</th>\n",
       "      <td>* Fence Attached to Structure_Unknown</td>\n",
       "      <td>0.199622</td>\n",
       "    </tr>\n",
       "    <tr>\n",
       "      <th>69</th>\n",
       "      <td>* Exterior Siding_Ignition Resistant</td>\n",
       "      <td>0.103504</td>\n",
       "    </tr>\n",
       "    <tr>\n",
       "      <th>55</th>\n",
       "      <td>* Eaves_Unknown</td>\n",
       "      <td>0.084554</td>\n",
       "    </tr>\n",
       "    <tr>\n",
       "      <th>67</th>\n",
       "      <td>* Exterior Siding_Combustible</td>\n",
       "      <td>0.084350</td>\n",
       "    </tr>\n",
       "    <tr>\n",
       "      <th>43</th>\n",
       "      <td>* Roof Construction_Fire Resistant</td>\n",
       "      <td>0.074804</td>\n",
       "    </tr>\n",
       "    <tr>\n",
       "      <th>...</th>\n",
       "      <td>...</td>\n",
       "      <td>...</td>\n",
       "    </tr>\n",
       "    <tr>\n",
       "      <th>58</th>\n",
       "      <td>* Vent Screen_GT30</td>\n",
       "      <td>0.000000</td>\n",
       "    </tr>\n",
       "    <tr>\n",
       "      <th>57</th>\n",
       "      <td>* Vent Screen_21-30</td>\n",
       "      <td>0.000000</td>\n",
       "    </tr>\n",
       "    <tr>\n",
       "      <th>59</th>\n",
       "      <td>* Vent Screen_Deck Elevated</td>\n",
       "      <td>0.000000</td>\n",
       "    </tr>\n",
       "    <tr>\n",
       "      <th>105</th>\n",
       "      <td>Distance - Propane Tank to Structure_</td>\n",
       "      <td>0.000000</td>\n",
       "    </tr>\n",
       "    <tr>\n",
       "      <th>111</th>\n",
       "      <td>Distance - Residence to Utility/Misc Structure...</td>\n",
       "      <td>0.000000</td>\n",
       "    </tr>\n",
       "  </tbody>\n",
       "</table>\n",
       "<p>117 rows × 2 columns</p>\n",
       "</div>"
      ],
      "text/plain": [
       "                                              Features  Importance\n",
       "104              * Fence Attached to Structure_Unknown    0.199622\n",
       "69                * Exterior Siding_Ignition Resistant    0.103504\n",
       "55                                     * Eaves_Unknown    0.084554\n",
       "67                       * Exterior Siding_Combustible    0.084350\n",
       "43                  * Roof Construction_Fire Resistant    0.074804\n",
       "..                                                 ...         ...\n",
       "58                                  * Vent Screen_GT30    0.000000\n",
       "57                                 * Vent Screen_21-30    0.000000\n",
       "59                         * Vent Screen_Deck Elevated    0.000000\n",
       "105             Distance - Propane Tank to Structure_     0.000000\n",
       "111  Distance - Residence to Utility/Misc Structure...    0.000000\n",
       "\n",
       "[117 rows x 2 columns]"
      ]
     },
     "execution_count": 67,
     "metadata": {},
     "output_type": "execute_result"
    }
   ],
   "source": [
    "# Create dataframe that shows features to importance\n",
    "df_features = pd.DataFrame({\"Features\": X.columns, \"Importance\": model.feature_importances_})\n",
    "\n",
    "\n",
    "# Ai prompt: How to sort dataframe\n",
    "df_features = df_features.sort_values(by=\"Importance\", ascending=False)\n",
    "df_features"
   ]
  },
  {
   "cell_type": "code",
   "execution_count": 84,
   "id": "7b6944bf-0a02-432a-93c4-ef74808eb5be",
   "metadata": {},
   "outputs": [
    {
     "name": "stdout",
     "output_type": "stream",
     "text": [
      "                                             Category  Importance\n",
      "6                                   * Exterior Siding    0.220644\n",
      "7                       * Fence Attached to Structure    0.205315\n",
      "5                                             * Eaves    0.161369\n",
      "9                                 * Roof Construction    0.146974\n",
      "4                               * Deck/Porch On Grade    0.049607\n",
      "13               Distance - Propane Tank to Structure    0.043412\n",
      "16                    Structure Defense Actions Taken    0.035373\n",
      "8         * Patio Cover/Carport Attached to Structure    0.032712\n",
      "11                                      * Vent Screen    0.019711\n",
      "10                                   * Structure Type    0.019249\n",
      "15                                 Structure Category    0.018932\n",
      "3                               * Deck/Porch Elevated    0.017796\n",
      "12                                      * Window Pane    0.008375\n",
      "1               # of Damaged Outbuildings LT 120 SQFT    0.007238\n",
      "2           # of Non Damaged Outbuildings LT 120 SQFT    0.006583\n",
      "14  Distance - Residence to Utility/Misc Structure...    0.005058\n",
      "0                # Units in Structure (if multi unit)    0.001655\n"
     ]
    }
   ],
   "source": [
    "# Find level of importance by columns in original dataframe\n",
    "df_features['Category'] = df_features['Features'].str.split('_').str[0]\n",
    "\n",
    "category_importance = df_features.groupby('Category')['Importance'].sum().reset_index()\n",
    "\n",
    "category_importance = category_importance.sort_values(by='Importance', ascending=False)\n",
    "\n",
    "print(category_importance)"
   ]
  },
  {
   "cell_type": "code",
   "execution_count": 85,
   "id": "0637d8c1-7ec0-46fa-ae9e-769b53632a31",
   "metadata": {},
   "outputs": [],
   "source": [
    "#Retest with only categories that are important\n",
    "\n",
    "CAFire[\"* Damage\"] = CAFire[\"* Damage\"].astype(\"category\").cat.codes\n",
    "\n",
    "df_relevant = category_importance[category_importance[\"Importance\"] > 0.1]\n",
    "\n",
    "X = pd.get_dummies(CAFire[df_relevant[\"Category\"].tolist()])\n",
    "y = CAFire[\"* Damage\"]\n",
    "\n",
    "#Clean for proper usage of XGBoost\n",
    "X.columns = X.columns.str.replace('[', '').str.replace(']', '').str.replace('<', 'LT').str.replace('>', 'GT')\n",
    "\n",
    "X_train, X_test, y_train, y_test = train_test_split(X, y, test_size=0.2, random_state=0)"
   ]
  },
  {
   "cell_type": "code",
   "execution_count": 76,
   "id": "5bf6e316-b1a3-47f4-8842-4399d0f9235d",
   "metadata": {},
   "outputs": [
    {
     "name": "stdout",
     "output_type": "stream",
     "text": [
      "Best parameters: {'learning_rate': 0.05, 'max_depth': 10, 'n_estimators': 100}\n"
     ]
    }
   ],
   "source": [
    "param_grid = {\n",
    "    'max_depth': [5, 10, 15],\n",
    "    'learning_rate': [0.01, 0.05, 0.1],\n",
    "    'n_estimators': [50, 100, 150]\n",
    "}\n",
    "\n",
    "grid_search = GridSearchCV(estimator=xgb.XGBRegressor(), param_grid=param_grid, scoring='neg_mean_squared_error', cv=3)\n",
    "grid_search.fit(X_train, y_train)\n",
    "\n",
    "print(\"Best parameters:\", grid_search.best_params_)"
   ]
  },
  {
   "cell_type": "code",
   "execution_count": 96,
   "id": "1cea9527-6123-4e1f-8eed-05a93aad9657",
   "metadata": {},
   "outputs": [
    {
     "name": "stdout",
     "output_type": "stream",
     "text": [
      "Accuracy: 0.8589\n",
      "Runtime: 2.072 seconds\n"
     ]
    }
   ],
   "source": [
    "start_time = time.time()\n",
    "\n",
    "model = xgb.XGBClassifier(n_estimators=100, learning_rate=0.05, max_depth=10)\n",
    "model.fit(X_train, y_train)\n",
    "y_pred = model.predict(X_test)\n",
    "\n",
    "#Test accuracy\n",
    "accuracy = accuracy_score(y_test, y_pred)\n",
    "print(f\"Accuracy: {accuracy:.4f}\")\n",
    "\n",
    "end_time = time.time()\n",
    "\n",
    "runtime = end_time - start_time\n",
    "print(f\"Runtime: {runtime:.3f} seconds\")"
   ]
  }
 ],
 "metadata": {
  "kernelspec": {
   "display_name": "Python 3 (ipykernel)",
   "language": "python",
   "name": "python3"
  },
  "language_info": {
   "codemirror_mode": {
    "name": "ipython",
    "version": 3
   },
   "file_extension": ".py",
   "mimetype": "text/x-python",
   "name": "python",
   "nbconvert_exporter": "python",
   "pygments_lexer": "ipython3",
   "version": "3.12.4"
  }
 },
 "nbformat": 4,
 "nbformat_minor": 5
}
