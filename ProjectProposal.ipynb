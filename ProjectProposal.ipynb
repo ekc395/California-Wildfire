{
 "cells": [
  {
   "cell_type": "raw",
   "id": "5c9e8036-6d51-43a6-b743-4bcaa7ec642f",
   "metadata": {},
   "source": [
    "---\n",
    "title: \"California Wildfire Prediction and Awareness\"\n",
    "format: \n",
    "  html:\n",
    "    code-fold: true\n",
    "    code-overflow: wrap\n",
    "geometry: margin=1in\n",
    "jupyter: python3\n",
    "---"
   ]
  },
  {
   "cell_type": "markdown",
   "id": "41d44f36-2d49-4e2a-9f65-d28971cee578",
   "metadata": {},
   "source": [
    "Team Name: Whelk\n",
    "\n",
    "Team Members and Roles:\n",
    "\n",
    "    Aiden Li:\n",
    "    -Data Scientist\n",
    "    -Data Engineer\n",
    "    \n",
    "    Ethan Chen:\n",
    "    -Data Scientist\n",
    "    -Data Engineer\n",
    "    \n",
    "    Sarju Patel:\n",
    "    -Data Scientist\n",
    "    -Data Engineer\n",
    "    \n",
    "    Ty Mellish:\n",
    "    -Data Scientist\n",
    "    -GIS and Mapping Specialist\n",
    "\n",
    "Project Description:\n",
    "\n",
    "    The project aims to identify high-risk areas for wildfire occurrence and severity, enabling more strategic allocation of firefighting resources based on population density, historical funding, and fire behavior data. By mapping both past and present wildfire events, we can better understand the factors driving fire intensity and spread, ultimately improving preparedness and minimizing damage through targeted interventions. The goal is to identify key variables that influence wildfire behavior and create a predictive model to optimize firefighting efforts and prevent property damage and loss of human life.\n",
    "\n",
    "\n",
    "Project Objectives:\n",
    "\n",
    "    -Determine areas where California should focus their funding/resources for fire fighting. In other words, how California can allocate its resources in order to minimize fire damage. \n",
    "    -Take population size and previous funding into consideration when determining allocation of funds. \n",
    "    -Determine what variables most affect wildfire spread (ex. Intensity, size of fire). \n",
    "    -Build a predictive model to determine where it is likely that another fire will occur as well as its severity. \n",
    "    -Mapping historical and current wildfire data and their severity\n",
    "\n",
    "Milestones and Deliverables:\n",
    "\n",
    "    Week 4: Data Cleaning\n",
    "    Week 5-6: Variable Analysis/Sensitivity Analysis\n",
    "    Week 6-7: Predictive Model\n",
    "    Week 7-10: Comprehensive Report\n",
    "    Mapping (if time)\n",
    "\n",
    "Datasets:\n",
    "\n",
    "    -https://www.kaggle.com/datasets/rtatman/188-million-us-wildfires (Historical data)\n",
    "\n",
    "    -https://www.kaggle.com/datasets/vijayveersingh/the-california-wildfire-data (California data)\n",
    "\n",
    "    -https://firms.modaps.eosdis.nasa.gov/ (Potential Usage)\n"
   ]
  },
  {
   "cell_type": "code",
   "execution_count": null,
   "id": "ac850a66-cb9b-4cc2-9dfc-3fc2621e98ae",
   "metadata": {},
   "outputs": [],
   "source": []
  }
 ],
 "metadata": {
  "kernelspec": {
   "display_name": "Python 3 (ipykernel)",
   "language": "python",
   "name": "python3"
  },
  "language_info": {
   "codemirror_mode": {
    "name": "ipython",
    "version": 3
   },
   "file_extension": ".py",
   "mimetype": "text/x-python",
   "name": "python",
   "nbconvert_exporter": "python",
   "pygments_lexer": "ipython3",
   "version": "3.12.4"
  }
 },
 "nbformat": 4,
 "nbformat_minor": 5
}
