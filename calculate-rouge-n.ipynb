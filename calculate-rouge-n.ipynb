{
 "cells": [
  {
   "cell_type": "markdown",
   "metadata": {},
   "source": [
    "# Lab #9: Calculate rougue-n\n",
    "\n",
    "## Summary\n",
    "\n",
    "In this lab, you'll work with your team to write a function to calculate the rouge-n metric. \n",
    "\n",
    "Skeleton code is provided below, you just need to write the body. \n",
    "\n",
    "Test cases are also provided. When you calculate rouge-n between the candidate and reference phrases, the metric value should match what is given in the TEST_CASES object.\n",
    "\n",
    "## Exit ticket\n",
    "\n",
    "1. Push a notebook to your team repo with your team's solution. This does not need to be finished today, but should be submitted before the Feb 18.\n"
   ]
  },
  {
   "cell_type": "code",
   "execution_count": 8,
   "metadata": {},
   "outputs": [],
   "source": [
    "from collections import Counter\n",
    "\n",
    "def get_ngrams(text, n):\n",
    "    \"\"\"\n",
    "    Generate a list of n-grams from the given text.\n",
    "    \"\"\"\n",
    "    tokens = text.split()\n",
    "    ngrams = [tuple(tokens[i:i+n]) for i in range(len(tokens) - n + 1)]\n",
    "    return ngrams\n",
    "\n",
    "\n",
    "def compute_rouge_n(reference, candidate, n=2):\n",
    "    \"\"\"\n",
    "    Compute ROUGE-n (recall-based) between the reference and candidate text.\n",
    "    \"\"\"\n",
    "    reference_ngrams = get_ngrams(reference, n)\n",
    "    candidate_ngrams = get_ngrams(candidate, n)\n",
    "    reference_counts = Counter(reference_ngrams)\n",
    "    candidate_counts = Counter(candidate_ngrams)\n",
    "    overlap = sum(min(candidate_counts[ng], reference_counts[ng]) for ng in candidate_counts)\n",
    "    total_reference_ngrams = sum(reference_counts.values())\n",
    "    if total_reference_ngrams == 0:\n",
    "        return 0.0\n",
    "    rouge_n = overlap / total_reference_ngrams\n",
    "    return rouge_n"
   ]
  },
  {
   "cell_type": "markdown",
   "metadata": {},
   "source": [
    "## Test cases and test code"
   ]
  },
  {
   "cell_type": "code",
   "execution_count": 9,
   "metadata": {},
   "outputs": [],
   "source": [
    "TEST_CASES = [\n",
    "    {\n",
    "        \"name\": \"exact match\",\n",
    "        \"reference\": \"The quick brown fox jumps\",\n",
    "        \"candidate\": \"The quick brown fox jumps\",\n",
    "        \"rouge-1\": 1,\n",
    "        \"rouge-2\": 1,\n",
    "        \"rouge-3\": 1,\n",
    "    },\n",
    "    {\n",
    "        \"name\": \"synonyms\",\n",
    "        \"reference\": \"The quick brown fox jumps\",\n",
    "        \"candidate\": \"The fast brown fox leaps\",\n",
    "        \"rouge-1\": 0.6,\n",
    "        \"rouge-2\": 0.25,\n",
    "        \"rouge-3\": 0,\n",
    "    },\n",
    "    {\n",
    "        \"name\": \"extra_words\",\n",
    "        \"reference\": \"The quick brown fox jumps\",\n",
    "        \"candidate\":  \"The lazy cat sleeps peacefully on the mat while the brown fox jumps\",\n",
    "        \"rouge-1\": 0.8,\n",
    "        \"rouge-2\": 0.5,\n",
    "        \"rouge-3\": 0.33,\n",
    "    },\n",
    "]"
   ]
  },
  {
   "cell_type": "code",
   "execution_count": 10,
   "metadata": {},
   "outputs": [
    {
     "name": "stdout",
     "output_type": "stream",
     "text": [
      "exact match - rouge-1:\t 1.0\n",
      "exact match - rouge-2:\t 1.0\n",
      "exact match - rouge-3:\t 1.0\n",
      "synonyms - rouge-1:\t 0.6\n",
      "synonyms - rouge-2:\t 0.25\n",
      "synonyms - rouge-3:\t 0.0\n",
      "extra_words - rouge-1:\t 0.8\n",
      "extra_words - rouge-2:\t 0.5\n",
      "extra_words - rouge-3:\t 0.3333333333333333\n"
     ]
    }
   ],
   "source": [
    "n_list = [1, 2, 3]\n",
    "for test_case in TEST_CASES:\n",
    "    for n in n_list:\n",
    "        print(f\"{test_case['name']} - rouge-{n}:\\t\", compute_rouge_n(test_case[\"reference\"], test_case[\"candidate\"], n))"
   ]
  }
 ],
 "metadata": {
  "kernelspec": {
   "display_name": "Python 3 (ipykernel)",
   "language": "python",
   "name": "python3"
  },
  "language_info": {
   "codemirror_mode": {
    "name": "ipython",
    "version": 3
   },
   "file_extension": ".py",
   "mimetype": "text/x-python",
   "name": "python",
   "nbconvert_exporter": "python",
   "pygments_lexer": "ipython3",
   "version": "3.12.4"
  }
 },
 "nbformat": 4,
 "nbformat_minor": 4
}
